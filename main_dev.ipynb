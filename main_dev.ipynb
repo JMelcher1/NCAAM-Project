{
 "cells": [
  {
   "cell_type": "code",
   "execution_count": 1,
   "id": "a921c844-2463-47da-9f6c-7cb37662c1f1",
   "metadata": {},
   "outputs": [
    {
     "name": "stdout",
     "output_type": "stream",
     "text": [
      "Requirement already satisfied: beautifulsoup4 in /Applications/anaconda3/lib/python3.11/site-packages (4.12.3)\n",
      "Requirement already satisfied: soupsieve>1.2 in /Applications/anaconda3/lib/python3.11/site-packages (from beautifulsoup4) (2.5)\n",
      "Note: you may need to restart the kernel to use updated packages.\n"
     ]
    }
   ],
   "source": [
    "pip install beautifulsoup4"
   ]
  },
  {
   "cell_type": "code",
   "execution_count": 2,
   "id": "c0dbe220-dd6d-4d30-b612-ec137045ebfc",
   "metadata": {},
   "outputs": [
    {
     "name": "stdout",
     "output_type": "stream",
     "text": [
      "Requirement already satisfied: cloudscraper in /Applications/anaconda3/lib/python3.11/site-packages (1.2.71)\n",
      "Requirement already satisfied: pyparsing>=2.4.7 in /Applications/anaconda3/lib/python3.11/site-packages (from cloudscraper) (3.0.9)\n",
      "Requirement already satisfied: requests>=2.9.2 in /Applications/anaconda3/lib/python3.11/site-packages (from cloudscraper) (2.32.3)\n",
      "Requirement already satisfied: requests-toolbelt>=0.9.1 in /Applications/anaconda3/lib/python3.11/site-packages (from cloudscraper) (1.0.0)\n",
      "Requirement already satisfied: charset-normalizer<4,>=2 in /Applications/anaconda3/lib/python3.11/site-packages (from requests>=2.9.2->cloudscraper) (3.3.2)\n",
      "Requirement already satisfied: idna<4,>=2.5 in /Applications/anaconda3/lib/python3.11/site-packages (from requests>=2.9.2->cloudscraper) (3.7)\n",
      "Requirement already satisfied: urllib3<3,>=1.21.1 in /Applications/anaconda3/lib/python3.11/site-packages (from requests>=2.9.2->cloudscraper) (2.5.0)\n",
      "Requirement already satisfied: certifi>=2017.4.17 in /Applications/anaconda3/lib/python3.11/site-packages (from requests>=2.9.2->cloudscraper) (2025.8.3)\n",
      "Note: you may need to restart the kernel to use updated packages.\n"
     ]
    }
   ],
   "source": [
    "pip install cloudscraper"
   ]
  },
  {
   "cell_type": "code",
   "execution_count": 4,
   "id": "8618b96e-e5c0-460a-9218-c691f49aea08",
   "metadata": {},
   "outputs": [
    {
     "name": "stdout",
     "output_type": "stream",
     "text": [
      "Collecting undetected_chromedriver\n",
      "  Using cached undetected_chromedriver-3.5.5-py3-none-any.whl\n",
      "Collecting selenium>=4.9.0 (from undetected_chromedriver)\n",
      "  Obtaining dependency information for selenium>=4.9.0 from https://files.pythonhosted.org/packages/17/ef/d0e033e1b3f19a0325ce03863b68d709780908381135fc0f9436dea76a7b/selenium-4.35.0-py3-none-any.whl.metadata\n",
      "  Using cached selenium-4.35.0-py3-none-any.whl.metadata (7.4 kB)\n",
      "Requirement already satisfied: requests in /Applications/anaconda3/lib/python3.11/site-packages (from undetected_chromedriver) (2.32.3)\n",
      "Requirement already satisfied: websockets in /Applications/anaconda3/lib/python3.11/site-packages (from undetected_chromedriver) (15.0.1)\n",
      "Requirement already satisfied: urllib3[socks]<3.0,>=2.5.0 in /Applications/anaconda3/lib/python3.11/site-packages (from selenium>=4.9.0->undetected_chromedriver) (2.5.0)\n",
      "Requirement already satisfied: trio~=0.30.0 in /Applications/anaconda3/lib/python3.11/site-packages (from selenium>=4.9.0->undetected_chromedriver) (0.30.0)\n",
      "Collecting trio-websocket~=0.12.2 (from selenium>=4.9.0->undetected_chromedriver)\n",
      "  Obtaining dependency information for trio-websocket~=0.12.2 from https://files.pythonhosted.org/packages/c7/19/eb640a397bba49ba49ef9dbe2e7e5c04202ba045b6ce2ec36e9cadc51e04/trio_websocket-0.12.2-py3-none-any.whl.metadata\n",
      "  Using cached trio_websocket-0.12.2-py3-none-any.whl.metadata (5.1 kB)\n",
      "Requirement already satisfied: certifi>=2025.6.15 in /Applications/anaconda3/lib/python3.11/site-packages (from selenium>=4.9.0->undetected_chromedriver) (2025.8.3)\n",
      "Requirement already satisfied: typing_extensions~=4.14.0 in /Applications/anaconda3/lib/python3.11/site-packages (from selenium>=4.9.0->undetected_chromedriver) (4.14.1)\n",
      "Requirement already satisfied: websocket-client~=1.8.0 in /Applications/anaconda3/lib/python3.11/site-packages (from selenium>=4.9.0->undetected_chromedriver) (1.8.0)\n",
      "Requirement already satisfied: charset-normalizer<4,>=2 in /Applications/anaconda3/lib/python3.11/site-packages (from requests->undetected_chromedriver) (3.3.2)\n",
      "Requirement already satisfied: idna<4,>=2.5 in /Applications/anaconda3/lib/python3.11/site-packages (from requests->undetected_chromedriver) (3.7)\n",
      "Requirement already satisfied: attrs>=23.2.0 in /Applications/anaconda3/lib/python3.11/site-packages (from trio~=0.30.0->selenium>=4.9.0->undetected_chromedriver) (25.3.0)\n",
      "Requirement already satisfied: sortedcontainers in /Applications/anaconda3/lib/python3.11/site-packages (from trio~=0.30.0->selenium>=4.9.0->undetected_chromedriver) (2.4.0)\n",
      "Requirement already satisfied: outcome in /Applications/anaconda3/lib/python3.11/site-packages (from trio~=0.30.0->selenium>=4.9.0->undetected_chromedriver) (1.3.0.post0)\n",
      "Requirement already satisfied: sniffio>=1.3.0 in /Applications/anaconda3/lib/python3.11/site-packages (from trio~=0.30.0->selenium>=4.9.0->undetected_chromedriver) (1.3.0)\n",
      "Requirement already satisfied: wsproto>=0.14 in /Applications/anaconda3/lib/python3.11/site-packages (from trio-websocket~=0.12.2->selenium>=4.9.0->undetected_chromedriver) (1.2.0)\n",
      "Requirement already satisfied: pysocks!=1.5.7,<2.0,>=1.5.6 in /Applications/anaconda3/lib/python3.11/site-packages (from urllib3[socks]<3.0,>=2.5.0->selenium>=4.9.0->undetected_chromedriver) (1.7.1)\n",
      "Requirement already satisfied: h11<1,>=0.9.0 in /Applications/anaconda3/lib/python3.11/site-packages (from wsproto>=0.14->trio-websocket~=0.12.2->selenium>=4.9.0->undetected_chromedriver) (0.14.0)\n",
      "Using cached selenium-4.35.0-py3-none-any.whl (9.6 MB)\n",
      "Using cached trio_websocket-0.12.2-py3-none-any.whl (21 kB)\n",
      "Installing collected packages: trio-websocket, selenium, undetected_chromedriver\n",
      "Successfully installed selenium-4.35.0 trio-websocket-0.12.2 undetected_chromedriver-3.5.5\n",
      "Note: you may need to restart the kernel to use updated packages.\n"
     ]
    }
   ],
   "source": [
    "pip install undetected_chromedriver"
   ]
  },
  {
   "cell_type": "code",
   "execution_count": 15,
   "id": "80ccb59e-f5db-4dbb-a621-54133b9ba983",
   "metadata": {},
   "outputs": [
    {
     "name": "stdout",
     "output_type": "stream",
     "text": [
      "you have beautifulsoup and undetected_chromedriver\n"
     ]
    }
   ],
   "source": [
    "from bs4 import BeautifulSoup \n",
    "import undetected_chromedriver as uc\n",
    "import time\n",
    "\n",
    "print(\"you have beautifulsoup and undetected_chromedriver\")"
   ]
  },
  {
   "cell_type": "code",
   "execution_count": 29,
   "id": "4ea5062b-ea5b-4854-9baf-4ff70e1e7869",
   "metadata": {},
   "outputs": [
    {
     "name": "stdout",
     "output_type": "stream",
     "text": [
      "2025-26 Projections -  - Customizable College Basketball Tempo Free Stats - T-Rank\n",
      "[\"St. John's\", 'Connecticut', 'Creighton', 'Villanova', 'Marquette', 'Providence', 'DePaul', 'Georgetown', 'Xavier', 'Butler', 'Seton Hall']\n",
      "St. John's\n",
      "Connecticut\n",
      "Creighton\n",
      "Villanova\n",
      "Marquette\n",
      "Providence\n",
      "DePaul\n",
      "Georgetown\n",
      "Xavier\n",
      "Butler\n",
      "Seton Hall\n",
      "['BE', '411', 'BE', '162', 'BE', '267', 'BE', '221', 'BE', '0', 'BE', '386', 'BE', '207', 'BE', '342', 'BE', '306', 'BE', '300', 'BE', '469']\n",
      "BE\n",
      "411\n",
      "BE\n",
      "162\n",
      "BE\n",
      "267\n",
      "BE\n",
      "221\n",
      "BE\n",
      "0\n",
      "BE\n",
      "386\n",
      "BE\n",
      "207\n",
      "BE\n",
      "342\n",
      "BE\n",
      "306\n",
      "BE\n",
      "300\n",
      "BE\n",
      "469\n"
     ]
    }
   ],
   "source": [
    "# Target URL\n",
    "url = \"https://barttorvik.com/trankpre.php?conlimit=BE&state=All&year=2026&sort=\"\n",
    "\n",
    "# Launch Chrome in undetected mode\n",
    "options = uc.ChromeOptions()\n",
    "options.headless = True   # run without opening a visible browser window\n",
    "driver = uc.Chrome(options=options)\n",
    "\n",
    "driver.get(url)\n",
    "\n",
    "# Give time for JS + verification to complete\n",
    "time.sleep(5)\n",
    "\n",
    "# Grab rendered HTML\n",
    "html = driver.page_source\n",
    "driver.quit()\n",
    "\n",
    "# Parse with BeautifulSoup\n",
    "soup = BeautifulSoup(html, \"html.parser\")\n",
    "\n",
    "print(soup.title.string)       # page title\n",
    "# print(soup.prettify()[:1000])  # first 1000 characters of HTML\n",
    "# Find the table\n",
    "team_names = [td.get_text(strip=True) for td in soup.select(\"td.teamname a\")]\n",
    "print(team_names)\n",
    "for name in team_names:\n",
    "    print(name)\n",
    "conference_names = [td.get_text(strip=True) for td in soup.select(\"td.mobileout a\")]\n",
    "print(conference_names)\n",
    "for name in conference_names:\n",
    "    print(name)"
   ]
  },
  {
   "cell_type": "code",
   "execution_count": null,
   "id": "96cbadfe-c275-431e-9f7f-242a66b84b01",
   "metadata": {},
   "outputs": [],
   "source": []
  }
 ],
 "metadata": {
  "kernelspec": {
   "display_name": "Python 3 (ipykernel)",
   "language": "python",
   "name": "python3"
  },
  "language_info": {
   "codemirror_mode": {
    "name": "ipython",
    "version": 3
   },
   "file_extension": ".py",
   "mimetype": "text/x-python",
   "name": "python",
   "nbconvert_exporter": "python",
   "pygments_lexer": "ipython3",
   "version": "3.11.0"
  }
 },
 "nbformat": 4,
 "nbformat_minor": 5
}
